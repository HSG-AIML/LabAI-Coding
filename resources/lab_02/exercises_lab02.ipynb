{
 "cells": [
  {
   "cell_type": "markdown",
   "metadata": {},
   "source": [
    "# Exercises for Python 102\n",
    "\n",
    "![Course Banner](https://raw.githubusercontent.com/HSG-AIML/LabAI-Coding/main/banner.png)\n",
    "\n",
    "The goal of the exercises below is to deepen you understanding of the Python language. In this Notebook, exercises are focused on our Python 101 Notebook. Feel free to use that Notebook as a reference, to search for help online, and to work together with others. If you have questions, please feel free to shout out!\n",
    "\n",
    "You don't have to work on these exercises in any specific order. "
   ]
  },
  {
   "cell_type": "markdown",
   "metadata": {
    "id": "R0wm1bZgAhsJ"
   },
   "source": [
    "## Numpy Arrays:"
   ]
  },
  {
   "cell_type": "markdown",
   "metadata": {
    "id": "OQAm8_ZtAhsJ"
   },
   "source": [
    "**1. Write a set of (or single) Python command(s) that adds a constant to every element of an array and a list.**\n",
    "\n",
    "> Write a set of Python commands to increase the value of each element of array `a` by 3. Do the same for list `l`."
   ]
  },
  {
   "cell_type": "code",
   "execution_count": null,
   "metadata": {
    "id": "gwkVym0kAhsJ"
   },
   "outputs": [],
   "source": [
    "a = np.array([1, 2, 3, 4, 5])\n",
    "l = [1, 2, 3, 4, 5]\n",
    "\n",
    "# ***************************************************\n",
    "# INSERT YOUR SOLUTION CODE HERE\n",
    "# ***************************************************"
   ]
  },
  {
   "cell_type": "markdown",
   "metadata": {
    "id": "LZYEYTeqAhsJ"
   },
   "source": [
    "**2. Write a single Python command that creates a 2d-array that looks like the following matrix:**\n",
    "\n",
    "    1 0 0 \n",
    "    0 1 0\n",
    "    0 0 1\n",
    "    \n",
    "> Hint: you can use `np.array(l)` where `l` is a list to create the matrix."
   ]
  },
  {
   "cell_type": "code",
   "execution_count": null,
   "metadata": {
    "id": "-zLwrMQQAhsJ"
   },
   "outputs": [],
   "source": [
    "# ***************************************************\n",
    "# INSERT YOUR SOLUTION CODE HERE\n",
    "# ***************************************************"
   ]
  },
  {
   "cell_type": "markdown",
   "metadata": {
    "id": "4fPxS4yVAhsJ"
   },
   "source": [
    "**3. Transform array `a` into [5, 5, 5, 5] by adding another array to it.**\n",
    "> Apply a mathematical operation to bring `a` into the desired form."
   ]
  },
  {
   "cell_type": "code",
   "execution_count": null,
   "metadata": {
    "id": "3foY2EE9AhsJ"
   },
   "outputs": [],
   "source": [
    "a = np.array([0, 2, 5, 10])\n",
    "\n",
    "# ***************************************************\n",
    "# INSERT YOUR SOLUTION CODE HERE\n",
    "# ***************************************************"
   ]
  },
  {
   "cell_type": "code",
   "execution_count": null,
   "metadata": {},
   "outputs": [],
   "source": []
  }
 ],
 "metadata": {
  "kernelspec": {
   "display_name": "Python 3",
   "language": "python",
   "name": "python3"
  },
  "language_info": {
   "codemirror_mode": {
    "name": "ipython",
    "version": 3
   },
   "file_extension": ".py",
   "mimetype": "text/x-python",
   "name": "python",
   "nbconvert_exporter": "python",
   "pygments_lexer": "ipython3",
   "version": "3.8.3"
  }
 },
 "nbformat": 4,
 "nbformat_minor": 4
}
