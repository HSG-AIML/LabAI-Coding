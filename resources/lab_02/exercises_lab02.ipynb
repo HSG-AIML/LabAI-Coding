{
 "cells": [
  {
   "cell_type": "markdown",
   "metadata": {},
   "source": [
    "# Exercises for Python 102\n",
    "\n",
    "![Course Banner](https://raw.githubusercontent.com/HSG-AIML/LabAI-Coding/main/banner.png)\n",
    "\n",
    "The goal of the exercises below is to deepen you understanding of the Python language. In this Notebook, exercises are focused on our Python 102 Notebook. Feel free to use that Notebook as a reference, to search for help online, and to work together with others. If you have questions, please feel free to shout out!\n",
    "\n",
    "You don't have to work on these exercises in any specific order. "
   ]
  },
  {
   "cell_type": "markdown",
   "metadata": {
    "id": "R0wm1bZgAhsJ"
   },
   "source": [
    "## Numpy Arrays"
   ]
  },
  {
   "cell_type": "code",
   "execution_count": null,
   "metadata": {},
   "outputs": [],
   "source": [
    "import numpy as np  # run this cell before starting with the exercises below"
   ]
  },
  {
   "cell_type": "markdown",
   "metadata": {
    "id": "OQAm8_ZtAhsJ"
   },
   "source": [
    "**1. Write a set of (or single) Python command(s) that adds a constant to every element of an array and a list.**\n",
    "\n",
    "> Write a set of Python commands to increase the value of each element of array `a` by 3. Do the same for list `l`."
   ]
  },
  {
   "cell_type": "code",
   "execution_count": null,
   "metadata": {
    "id": "gwkVym0kAhsJ"
   },
   "outputs": [],
   "source": [
    "a = np.array([1, 2, 3, 4, 5])\n",
    "l = [1, 2, 3, 4, 5]\n",
    "\n",
    "# ***************************************************\n",
    "# INSERT YOUR SOLUTION CODE HERE\n",
    "# ***************************************************"
   ]
  },
  {
   "cell_type": "markdown",
   "metadata": {
    "id": "LZYEYTeqAhsJ"
   },
   "source": [
    "**2. Write a single Python command that creates a 2d-array that looks like the following matrix:**\n",
    "\n",
    "    1 0 0 \n",
    "    0 1 0\n",
    "    0 0 1\n",
    "    \n",
    "> Hint: you can use `np.array(l)` where `l` is a list to create the matrix. What would `l` look like?"
   ]
  },
  {
   "cell_type": "code",
   "execution_count": null,
   "metadata": {
    "id": "-zLwrMQQAhsJ"
   },
   "outputs": [],
   "source": [
    "# ***************************************************\n",
    "# INSERT YOUR SOLUTION CODE HERE\n",
    "# ***************************************************"
   ]
  },
  {
   "cell_type": "markdown",
   "metadata": {
    "id": "4fPxS4yVAhsJ"
   },
   "source": [
    "**3. Transform array `a` into [5, 5, 5, 5] by adding another array to it.**\n",
    "> Apply a mathematical operation `a + b` to bring `a` into the desired form. What would `b` look like?"
   ]
  },
  {
   "cell_type": "code",
   "execution_count": null,
   "metadata": {
    "id": "3foY2EE9AhsJ"
   },
   "outputs": [],
   "source": [
    "a = np.array([0, 2, 5, 10])\n",
    "\n",
    "# ***************************************************\n",
    "# INSERT YOUR SOLUTION CODE HERE\n",
    "# ***************************************************"
   ]
  },
  {
   "source": [
    "**4. Reshape a vector into a a matrix.**\n",
    "> Create a 1-dimensional array `a` with length 16 that contains the sequence of numbers (integer or floats are fine) from 1 to 16 and reshape it into a 4x4 matrix."
   ],
   "cell_type": "markdown",
   "metadata": {}
  },
  {
   "cell_type": "code",
   "execution_count": null,
   "metadata": {},
   "outputs": [],
   "source": [
    "# ***************************************************\n",
    "# INSERT YOUR SOLUTION CODE HERE\n",
    "# ***************************************************"
   ]
  },
  {
   "source": [
    "## Plotting Data"
   ],
   "cell_type": "markdown",
   "metadata": {}
  },
  {
   "cell_type": "code",
   "execution_count": null,
   "metadata": {},
   "outputs": [],
   "source": [
    "import matplotlib.pyplot as plt  # run this cell before starting with the exercises below"
   ]
  },
  {
   "source": [
    "**1. Scatter Plot**\n",
    "\n",
    "> The arrays `data_x` and `data_y` as defined below represent the x and y coordinates, respectively, of a cloud of data points. Plot these data points \n",
    "in a scatter plot (`plt.scatter`). In the next step, plot a line (`plt.plot`) that connects the first data point with the last data point."
   ],
   "cell_type": "markdown",
   "metadata": {}
  },
  {
   "cell_type": "code",
   "execution_count": null,
   "metadata": {},
   "outputs": [],
   "source": [
    "np.random.seed(42)  # keep this line so that your results are reproduceable\n",
    "data_x = np.random.rand(20)*10\n",
    "data_y = 3*data_x*2 + np.random.normal(size=20, loc=0, scale=10)"
   ]
  },
  {
   "source": [
    "**2. Plotting $f(x)=x^2**\n",
    "\n",
    "> Write a set of Python commands that sample the interval [-3, 3] in steps of 0.1 and call this array `x`. Then define a function, `square`, that takes as input an array and returns the element-wise square of this array. Finally, use the `plt.plot` function to plot `square(x)` against `x`."
   ],
   "cell_type": "markdown",
   "metadata": {}
  },
  {
   "cell_type": "code",
   "execution_count": null,
   "metadata": {},
   "outputs": [],
   "source": [
    "# ***************************************************\n",
    "# INSERT YOUR SOLUTION CODE HERE\n",
    "# ***************************************************"
   ]
  },
  {
   "source": [
    "## Dealing with Image Data"
   ],
   "cell_type": "markdown",
   "metadata": {}
  },
  {
   "cell_type": "code",
   "execution_count": null,
   "metadata": {},
   "outputs": [],
   "source": [
    "# run this cell before starting with the exercises below\n",
    "import matplotlib.pyplot as plt\n",
    "from PIL import Image\n",
    "from urllib.request import urlopen  \n",
    "image = np.asarray(Image.open(urlopen(\"https://upload.wikimedia.org/wikipedia/commons/thumb/0/0e/Trogenerbahn.jpg/1920px-Trogenerbahn.jpg\")))"
   ]
  },
  {
   "source": [
    "**1. Plotting Image Data**\n",
    "\n",
    "> Display `image` using `plot.imshow`. Then, define a second image array, `crop`, that will roughly crop the tram. Keep in mind that the dimensionality of images is `[rows, columns, channels]`. Display `crop`."
   ],
   "cell_type": "markdown",
   "metadata": {}
  },
  {
   "cell_type": "code",
   "execution_count": null,
   "metadata": {},
   "outputs": [],
   "source": [
    "# ***************************************************\n",
    "# INSERT YOUR SOLUTION CODE HERE\n",
    "# ***************************************************"
   ]
  },
  {
   "source": [
    "**2. Manipulating Image Data**\n",
    "\n",
    "> The tram in the image is red. Modify the image in such a way that the tram appears green instead. Be creative! Never mind if background objects appear in unnatural colors."
   ],
   "cell_type": "markdown",
   "metadata": {}
  },
  {
   "cell_type": "code",
   "execution_count": null,
   "metadata": {},
   "outputs": [],
   "source": [
    "# ***************************************************\n",
    "# INSERT YOUR SOLUTION CODE HERE\n",
    "# ***************************************************"
   ]
  },
  {
   "source": [
    "**3. Manipulating Image Data II**\n",
    "\n",
    "> Can you turn the image upside down? Keep in mind that you can reverse an array using `::-1` when slicing. But which axis do you have to reverse?"
   ],
   "cell_type": "markdown",
   "metadata": {}
  },
  {
   "cell_type": "code",
   "execution_count": null,
   "metadata": {},
   "outputs": [],
   "source": [
    "# ***************************************************\n",
    "# INSERT YOUR SOLUTION CODE HERE\n",
    "# ***************************************************"
   ]
  },
  {
   "cell_type": "code",
   "execution_count": null,
   "metadata": {},
   "outputs": [],
   "source": []
  }
 ],
 "metadata": {
  "kernelspec": {
   "display_name": "Python 3",
   "language": "python",
   "name": "python3"
  },
  "language_info": {
   "codemirror_mode": {
    "name": "ipython",
    "version": 3
   },
   "file_extension": ".py",
   "mimetype": "text/x-python",
   "name": "python",
   "nbconvert_exporter": "python",
   "pygments_lexer": "ipython3",
   "version": "3.8.3-final"
  }
 },
 "nbformat": 4,
 "nbformat_minor": 4
}