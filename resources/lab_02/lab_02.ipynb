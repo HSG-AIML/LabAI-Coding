{
 "cells": [
  {
   "cell_type": "markdown",
   "metadata": {},
   "source": [
    "<img align=\"center\" style=\"max-width: 1000px\" src=\"banner.png\">"
   ]
  },
  {
   "source": [
    "<img align=\"right\" style=\"max-width: 200px; height: auto\" src=\"hsg_logo.png\">\n",
    "\n",
    "##  Lab 02 - \"Python 102: Numerical Math, Plotting & Images\"\n",
    "\n",
    "EMBA 58/59 - W8/3 - \"AI Coding for Executives\", University of St. Gallen"
   ],
   "cell_type": "markdown",
   "metadata": {}
  },
  {
   "cell_type": "markdown",
   "metadata": {},
   "source": [
    "In yesterday's lab courses we learned about basic Python programming. In this lab course, we will build on this new knowledge and introduce some modules, techniques, and concepts that we will need in the future for designing and training machine learning and deep learning models."
   ]
  },
  {
   "cell_type": "markdown",
   "metadata": {},
   "source": [
    "## Numpy\n",
    "\n",
    "[Numpy](https://docs.scipy.org/doc/numpy-1.14.0/reference/index.html) is the fundamental package for scientific computing with Python and supports you with numerically and computationally intensive problems. The core of Numpy forms the concept of arrays, which we will learn about next. Building on the concept of arrays, Numpy provides a wide range of mathematical functionality."
   ]
  },
  {
   "cell_type": "markdown",
   "metadata": {
    "id": "pqxGci2FAhsH"
   },
   "source": [
    "#### Numpy Arrays and Tensors\n",
    "\n",
    "Lists are useful, but rather memory intensive. If you want to process large amounts of data - like we do in machine learning applications - you want to use your limited memory more efficiently. \n",
    "Numpy arrays are here to help: they are lists on steroids. \n",
    "\n",
    "Creating an array is as easy as creating a list:"
   ]
  },
  {
   "cell_type": "code",
   "execution_count": null,
   "metadata": {
    "id": "IJ1iSIO8AhsH"
   },
   "outputs": [],
   "source": [
    "import numpy as np  # we have to import NumPy first\n",
    "\n",
    "l = [0, 1, 2]   # this is a list\n",
    "a = np.array(l) # this is an array\n",
    "a"
   ]
  },
  {
   "cell_type": "markdown",
   "metadata": {
    "id": "O0d93Ls2AhsH"
   },
   "source": [
    "You can create an array from a list, or you can use the NumPy equivalent of `range`:"
   ]
  },
  {
   "cell_type": "code",
   "execution_count": null,
   "metadata": {
    "id": "Dkz8FR06AhsH"
   },
   "outputs": [],
   "source": [
    "a = np.arange(0, 3, 1)\n",
    "a"
   ]
  },
  {
   "cell_type": "markdown",
   "metadata": {
    "id": "G9FcOOKGAhsH"
   },
   "source": [
    "The first big difference between lists and arrays is that all elements in an array **must** be of the same data type (list elements can have different data types, though). As a result, an array has a data type attribute:"
   ]
  },
  {
   "cell_type": "code",
   "execution_count": null,
   "metadata": {
    "id": "Uw6WAJIzAhsH"
   },
   "outputs": [],
   "source": [
    "a.dtype"
   ]
  },
  {
   "cell_type": "markdown",
   "metadata": {
    "id": "7vf75yPaAhsH"
   },
   "source": [
    "In this case, the data type is 64-bit integer, which is a derivate of the integer we already met as a basic data type. \n",
    "\n",
    "Arrays are able to perform element-wise operations:"
   ]
  },
  {
   "cell_type": "code",
   "execution_count": null,
   "metadata": {
    "id": "ulI9A8soAhsH"
   },
   "outputs": [],
   "source": [
    "print(a + 1)  # element-wise addition\n",
    "print(a - 4)  # element-wise subtraction\n",
    "print(a * 2)  # element-wise multiplication\n",
    "print(a ** 2)  # element-wise exponentiation\n",
    "#print(l+1)   # a list cannot do this"
   ]
  },
  {
   "cell_type": "markdown",
   "metadata": {
    "id": "4WOGCE3CAhsH"
   },
   "source": [
    "Some operations may require your array to adopt a different datatype. Python will do that for you:"
   ]
  },
  {
   "cell_type": "code",
   "execution_count": null,
   "metadata": {
    "id": "vP4ckHy6AhsH"
   },
   "outputs": [],
   "source": [
    "print(a/2)\n",
    "print((a/2).dtype)"
   ]
  },
  {
   "cell_type": "markdown",
   "metadata": {
    "id": "p3J3wHzJAhsH"
   },
   "source": [
    "Indexing and slicing work the exact same way as for lists:"
   ]
  },
  {
   "cell_type": "code",
   "execution_count": null,
   "metadata": {
    "id": "6cCYLun0AhsH"
   },
   "outputs": [],
   "source": [
    "print(a[0])\n",
    "print(a[:2])\n",
    "print(a[-1])\n",
    "print(a[::-1])  # reverse array by using a step size of -1"
   ]
  },
  {
   "cell_type": "markdown",
   "metadata": {
    "id": "3uUF0UYcAhsH"
   },
   "source": [
    "You can also use arithmetic operations involving two arrays:"
   ]
  },
  {
   "cell_type": "code",
   "execution_count": null,
   "metadata": {
    "id": "9OTMghMSAhsH"
   },
   "outputs": [],
   "source": [
    "print(a + np.array([1, 2, 3]))\n",
    "#print(l + [1, 2, 3])  # in the case of lists, this will concatenate the two lists"
   ]
  },
  {
   "cell_type": "markdown",
   "metadata": {
    "id": "oQIm0xvZAhsH"
   },
   "source": [
    "You can consider a one-dimensional array as a **vector**. But arrays are not limited to one dimension. You can create a two-dimensional array, which you can then consider as a **matrix**:"
   ]
  },
  {
   "cell_type": "code",
   "execution_count": null,
   "metadata": {
    "id": "LDuzsPPyAhsI"
   },
   "outputs": [],
   "source": [
    "m = np.array([[1, 2, 3], [4, 5, 6], [7, 8, 9]])\n",
    "m"
   ]
  },
  {
   "cell_type": "markdown",
   "metadata": {
    "id": "JxRXtUABAhsI"
   },
   "source": [
    "Everything we learned about arrays so far holds up for two-dimensional arrays:"
   ]
  },
  {
   "cell_type": "code",
   "execution_count": null,
   "metadata": {
    "id": "yYh9JG9zAhsI"
   },
   "outputs": [],
   "source": [
    "print(m[0])       # the first element of m is a one-dimensional array\n",
    "print(m[:, 0])    # the first element of each row\n",
    "print(m + 1)      # element-wise addition\n",
    "print(m * a)      # multiply vector a with each row of matrix m "
   ]
  },
  {
   "cell_type": "markdown",
   "metadata": {
    "id": "mlYMRFJrAhsI"
   },
   "source": [
    "Please note the notation in line 2: `m[:, 0]`\n",
    "This might look weird to you, but it's easy to explain what happens here: in a two-dimensional array, you have one index for each dimension. In `[:, 0]`, `:` refers to the first dimension (the rows) and `0` refers to the second dimension (the columns). Thus, it retrieves the element in the first column for each row. If you have additional (n) dimensions, the same logic applies, which gives you a powerful tool to easily access data in your arrays.\n",
    "\n",
    "\n",
    "Since `a` is a vector and `m` is a matrix, we can compute the dot product (or *inner product*) of the two:"
   ]
  },
  {
   "cell_type": "code",
   "execution_count": null,
   "metadata": {
    "id": "v9BrdQssAhsI"
   },
   "outputs": [],
   "source": [
    "np.dot(m, a)"
   ]
  },
  {
   "cell_type": "markdown",
   "metadata": {},
   "source": [
    "Since arrays can be multi-dimensional, you can easily check their shape in the different dimensions:"
   ]
  },
  {
   "cell_type": "code",
   "execution_count": null,
   "metadata": {},
   "outputs": [],
   "source": [
    "m.shape"
   ]
  },
  {
   "source": [
    "Arrays can be easily reshaped:"
   ],
   "cell_type": "markdown",
   "metadata": {}
  },
  {
   "cell_type": "code",
   "execution_count": null,
   "metadata": {},
   "outputs": [],
   "source": [
    "m.reshape(1, 9)"
   ]
  },
  {
   "source": [
    "For long arrays it can be a hassle to figure out the exact dimensions if you want to reshape an Array. Numpy will help you if know all but one of the dimensions that your resulting Array should be in. In that case, you can replace the missing dimension with `-1`. For instance, the previous command can be written as:"
   ],
   "cell_type": "markdown",
   "metadata": {}
  },
  {
   "cell_type": "code",
   "execution_count": null,
   "metadata": {},
   "outputs": [],
   "source": [
    "m.reshape(1, -1)"
   ]
  },
  {
   "cell_type": "markdown",
   "metadata": {
    "id": "QiXZiYRCAhsI"
   },
   "source": [
    "Ok, that's all nice. But what is Numpy's other selling point? It is fast. Let me show you just how fast. \n",
    "Let's assume you have a long list and want to change every element in that list. This will take a while:"
   ]
  },
  {
   "cell_type": "code",
   "execution_count": null,
   "metadata": {
    "id": "HaawbLRoAhsI"
   },
   "outputs": [],
   "source": [
    "l = range(10000000)\n",
    "l2 = []\n",
    "for x in l:\n",
    "    l2.append(x+1)\n",
    "l2"
   ]
  },
  {
   "cell_type": "markdown",
   "metadata": {
    "id": "nZTu0qxrAhsI"
   },
   "source": [
    "If you try the same in NumPy, you can do it in fewer lines of code and with much faster runtime:"
   ]
  },
  {
   "cell_type": "code",
   "execution_count": null,
   "metadata": {
    "id": "x35Vy_SiAhsI"
   },
   "outputs": [],
   "source": [
    "a = np.arange(10000000)\n",
    "a+1"
   ]
  },
  {
   "cell_type": "markdown",
   "metadata": {
    "id": "OhLD8s64AhsI"
   },
   "source": [
    "NumPy is so much fast since it vectorizes computations: it applies the operation on each element of an array at the same time. This is possible since NumPy uses C implementations in the background. You, as a user, benefit from the speed of C and the simplicity of Python at the same time."
   ]
  },
  {
   "cell_type": "markdown",
   "metadata": {
    "id": "g-fp55mIAhsJ"
   },
   "source": [
    "Finally, in the next lab courses we will be dealing with tensors. A **tensor**, mathematically, is just an n-dimensional array. In terms of programming, we will be using the Python module `pytorch`, which implements tensors (NumPy arrays can be used as tensors, too, but we prefer to use pytorch tensors for a reason that we will explain later to you). The good thing for you is that pytorch tensors work exactly like NumPy arrays:"
   ]
  },
  {
   "cell_type": "code",
   "execution_count": null,
   "metadata": {
    "id": "L5pzpjdEAhsJ"
   },
   "outputs": [],
   "source": [
    "import torch\n",
    "\n",
    "a = torch.tensor([1, 2, 3])\n",
    "\n",
    "print(a + 1)  # element-wise addition\n",
    "print(a * 2)  # element-wise multiplication\n",
    "print(a[2])   # indexing\n",
    "print(a[1:])  # slicing\n",
    "\n",
    "b = torch.tensor([[1, 2, 3], [4, 5, 6], [7, 8, 9]])\n",
    "\n",
    "print(torch.mul(b, a))  # dot product"
   ]
  },
  {
   "cell_type": "markdown",
   "metadata": {},
   "source": [
    "#### Numpy Functions\n",
    "\n",
    "Numpy provides a wide range of functionality. We will introduce here only a few functions that you may find useful in the future."
   ]
  },
  {
   "cell_type": "markdown",
   "metadata": {},
   "source": [
    "`numpy.random` generates **random numbers**. For instance, you can generate an array of length 5 of uniformly distributed random numbers in the range 0 to 10 using:"
   ]
  },
  {
   "cell_type": "code",
   "execution_count": null,
   "metadata": {},
   "outputs": [],
   "source": [
    "np.random.rand(5)*10"
   ]
  },
  {
   "cell_type": "markdown",
   "metadata": {},
   "source": [
    "If you prefer random numbers that follow a Gaussian distribution with mean $\\mu$=5 and standard deviation $\\sigma$=0.5, you can use:"
   ]
  },
  {
   "cell_type": "code",
   "execution_count": null,
   "metadata": {},
   "outputs": [],
   "source": [
    "gauss = np.random.normal(size=100, loc=5, scale=0.5)"
   ]
  },
  {
   "cell_type": "markdown",
   "metadata": {},
   "source": [
    "Numpy also provides functions for simple **statistical analyses**. For our `gauss` array, we can derive the\n",
    "mean and standard deviation and compare them to the values we used in the generation of the random numbers:"
   ]
  },
  {
   "cell_type": "code",
   "execution_count": null,
   "metadata": {},
   "outputs": [],
   "source": [
    "print('mean:', np.mean(gauss))\n",
    "print('standard deviation:', np.std(gauss))"
   ]
  },
  {
   "cell_type": "markdown",
   "metadata": {},
   "source": [
    "That's close enough. Keep in mind though that results may vary since these numbers are randomly generated."
   ]
  },
  {
   "cell_type": "markdown",
   "metadata": {},
   "source": [
    "We can also derive the median:"
   ]
  },
  {
   "cell_type": "code",
   "execution_count": null,
   "metadata": {},
   "outputs": [],
   "source": [
    "np.median(gauss)"
   ]
  },
  {
   "cell_type": "markdown",
   "metadata": {},
   "source": [
    "And finally, we can derive a histogram from the distribution of numbers:"
   ]
  },
  {
   "cell_type": "code",
   "execution_count": null,
   "metadata": {},
   "outputs": [],
   "source": [
    "hist, bins = np.histogram(gauss)\n",
    "print('bins:', bins)\n",
    "print('counts:', hist)"
   ]
  },
  {
   "cell_type": "markdown",
   "metadata": {},
   "source": [
    "Also, there is a wide range of functions for **generating arrays**. For instance, the following command is the Numpy equivalent of Python's `range` function, which actually generates floats: "
   ]
  },
  {
   "cell_type": "code",
   "execution_count": null,
   "metadata": {},
   "outputs": [],
   "source": [
    "np.arange(0, 11, 1)"
   ]
  },
  {
   "cell_type": "markdown",
   "metadata": {},
   "source": [
    "We can plug this array into our histogram to fix the bins:"
   ]
  },
  {
   "cell_type": "code",
   "execution_count": null,
   "metadata": {},
   "outputs": [],
   "source": [
    "hist, bins = np.histogram(gauss, bins=np.arange(0, 11, 1))\n",
    "print('bins:', bins)\n",
    "print('counts:', hist)"
   ]
  },
  {
   "cell_type": "markdown",
   "metadata": {},
   "source": [
    "Other functions can generate arrays only containing ones or zeros:"
   ]
  },
  {
   "cell_type": "code",
   "execution_count": null,
   "metadata": {},
   "outputs": [],
   "source": [
    "print(np.zeros(5))\n",
    "print(np.ones((3,3)))"
   ]
  },
  {
   "cell_type": "markdown",
   "metadata": {},
   "source": [
    "## Plotting Data "
   ]
  },
  {
   "cell_type": "markdown",
   "metadata": {},
   "source": [
    "Python's `Matplotlib` library (https://matplotlib.org) is a very flexible library and has a lot of handy, built-in defaults that will help you out tremendously. \n",
    "\n",
    "As such, you don’t need much to get started: you need to make the necessary imports, prepare some data, and you can start plotting with the help of the `plot()` function. Let's have a look."
   ]
  },
  {
   "cell_type": "markdown",
   "metadata": {},
   "source": [
    "Let's import Matplotlib by running the following statements:"
   ]
  },
  {
   "cell_type": "code",
   "execution_count": null,
   "metadata": {},
   "outputs": [],
   "source": [
    "# importing the matplotlib plotting library\n",
    "import matplotlib.pyplot as plt"
   ]
  },
  {
   "cell_type": "markdown",
   "metadata": {},
   "source": [
    "Note that we imported the `pyplot` module of the `Matplotlib` library under the alias `plt`."
   ]
  },
  {
   "cell_type": "markdown",
   "metadata": {},
   "source": [
    "We can now use the plotting functionality provided by Matplotlib as follows:"
   ]
  },
  {
   "cell_type": "code",
   "execution_count": null,
   "metadata": {},
   "outputs": [],
   "source": [
    "plt.plot(gauss)"
   ]
  },
  {
   "cell_type": "markdown",
   "metadata": {},
   "source": [
    "Let's apply some variations as well as the axis legends to our plot:"
   ]
  },
  {
   "cell_type": "code",
   "execution_count": null,
   "metadata": {
    "scrolled": true
   },
   "outputs": [],
   "source": [
    "plt.plot(gauss, linewidth=3, linestyle=\"--\")\n",
    "\n",
    "# set label and title details\n",
    "plt.xlabel('sample', weight='normal', fontsize=14)\n",
    "plt.ylabel('value', weight='normal', fontsize=14)"
   ]
  },
  {
   "cell_type": "markdown",
   "metadata": {},
   "source": [
    "#### Remove Line Output"
   ]
  },
  {
   "cell_type": "markdown",
   "metadata": {},
   "source": [
    "You might have noticed a similar annoying line of the form: `[<matplotlib.lines.Line2D at 0x10a4cce90>]` before the created plot. If you wish to get rid of this output, end the plot statement using a semicolon `;`:"
   ]
  },
  {
   "cell_type": "code",
   "execution_count": null,
   "metadata": {},
   "outputs": [],
   "source": [
    "plt.plot(gauss);"
   ]
  },
  {
   "cell_type": "markdown",
   "metadata": {},
   "source": [
    "#### Adding Axis Labels"
   ]
  },
  {
   "cell_type": "markdown",
   "metadata": {},
   "source": [
    "No self-respecting quantitative analyst leaves a graph without labeled axes. Here are some commands to help with that."
   ]
  },
  {
   "cell_type": "code",
   "execution_count": null,
   "metadata": {},
   "outputs": [],
   "source": [
    "# sample 100 points twice with a mean of 0 and an std of 1 from a standard normal distribution.\n",
    "x1 = np.random.normal(0, 1, 100)\n",
    "x2 = np.random.normal(0, 1, 100)"
   ]
  },
  {
   "cell_type": "code",
   "execution_count": null,
   "metadata": {},
   "outputs": [],
   "source": [
    "# plot both sample results\n",
    "plt.plot(x1);\n",
    "plt.plot(x2);\n",
    "\n",
    "# add x-axis and y-axis label \n",
    "plt.xlabel('Time')\n",
    "plt.ylabel('Returns')\n",
    "\n",
    "# add plot legend\n",
    "plt.legend(['X1', 'X2'])\n",
    "\n",
    "# add plot title\n",
    "plt.title('Sample Returns X1 and X2');"
   ]
  },
  {
   "cell_type": "markdown",
   "metadata": {},
   "source": [
    "#### Plotting a Histogram\n",
    "\n",
    "Let's plot the histogram of the Gaussian that we generated earlier in bar plot:"
   ]
  },
  {
   "cell_type": "code",
   "execution_count": null,
   "metadata": {},
   "outputs": [],
   "source": [
    "# plot both sample results\n",
    "plt.bar(bins[:-1], hist)\n",
    "\n",
    "# add x-axis and y-axis label \n",
    "plt.xlabel('x')\n",
    "plt.ylabel('Frequency')"
   ]
  },
  {
   "cell_type": "markdown",
   "metadata": {},
   "source": [
    "In this case, we use `bins` on our x-axis and `hist` on our y-axis. However, we had to remove the last element from `bins`, as it describes the bin edges and is thus longer than `hist`."
   ]
  },
  {
   "cell_type": "markdown",
   "metadata": {
    "id": "9-MANoS8AhsN"
   },
   "source": [
    "## Basic Python Image Manipulations"
   ]
  },
  {
   "cell_type": "markdown",
   "metadata": {
    "id": "aZ3gvsTSAhsO"
   },
   "source": [
    "The **\"Python Imaging Library (Pillow)\"** by Alex Clark and contributors (abbreviated as PIL, in newer versions known as Pillow), is a free library for the Python programming language that adds support for opening, manipulating, and saving many different image file formats (https://pillow.readthedocs.io/en/stable/). Using the PIL library in combination with the Numpy library allows for a great deal image analysis and manipulation. \n",
    "\n",
    "To make an arbitrary image interpretable for a computer images are usually represented by 3D tensors as shown below:"
   ]
  },
  {
   "cell_type": "markdown",
   "metadata": {
    "id": "ZQIJnB6CAhsO"
   },
   "source": [
    "<img align=\"center\" style=\"max-width: 1000px; height: auto\" src=\"https://raw.githubusercontent.com/HSG-AIML/LabAI-Coding/main/resources/lab_02/python_image_processing.png\">"
   ]
  },
  {
   "cell_type": "markdown",
   "metadata": {
    "id": "Vy5bTy_jAhsO"
   },
   "source": [
    "(Source: **\"Learning Perceptual Organization with Minimal Human Supervision\"**, Stella Yu, UC Berkeley, 2019.) "
   ]
  },
  {
   "cell_type": "markdown",
   "metadata": {
    "id": "oYxSbkx0AhsO"
   },
   "source": [
    "Pls. note, that prior to using PIL you need to install the Python Image package. A brief installation instruction can be obtained from: https://pillow.readthedocs.io/en/5.3.x/installation.html. The package can installed via the following command:"
   ]
  },
  {
   "cell_type": "code",
   "execution_count": null,
   "metadata": {
    "id": "5XB-6zG9AhsO"
   },
   "outputs": [],
   "source": [
    "!pip install pillow"
   ]
  },
  {
   "cell_type": "markdown",
   "metadata": {
    "id": "G1coyYU1AhsO"
   },
   "source": [
    "Upon successful installation we can now import the `PIL` and `Scikit-Image` libraries:"
   ]
  },
  {
   "cell_type": "code",
   "execution_count": null,
   "metadata": {
    "id": "IKSijcJDAhsO"
   },
   "outputs": [],
   "source": [
    "# use this statement to show plots inside your notebook\n",
    "%matplotlib inline\n",
    "\n",
    "# import the pil, numpy and the matplotlib libraries\n",
    "from PIL import Image\n",
    "import numpy as np\n",
    "import matplotlib.pyplot as plt\n",
    "\n",
    "# import the scikit image library\n",
    "from skimage import io"
   ]
  },
  {
   "cell_type": "markdown",
   "metadata": {
    "id": "FNaMWFsmAhsO"
   },
   "source": [
    "The `PIL` library supports a wide variety of image file formats. To read files from disk, use the image read `imread` function of the `Scikit-Image` library. You don’t have to know the file format to open a file. The library automatically determines the format based on the contents of the file."
   ]
  },
  {
   "cell_type": "markdown",
   "metadata": {
    "id": "zARahrsKAhsO"
   },
   "source": [
    "#### 6.1. Image Loading and Plotting"
   ]
  },
  {
   "cell_type": "markdown",
   "metadata": {
    "id": "_di0sCBtAhsO"
   },
   "source": [
    "Let's open and plot the `halloween.jpg` image file:"
   ]
  },
  {
   "cell_type": "code",
   "execution_count": null,
   "metadata": {
    "id": "_xD2HhlvAhsO"
   },
   "outputs": [],
   "source": [
    "from urllib.request import urlopen  # this is only necessary to run the Notebook in the cloud\n",
    "\n",
    "image = np.asarray(Image.open(urlopen(\"https://raw.githubusercontent.com/HSG-AIML/LabAI-Coding/main/resources/lab_02/halloween.jpg\")))\n",
    "plt.imshow(image, vmin=0, vmax=255)"
   ]
  },
  {
   "cell_type": "markdown",
   "metadata": {
    "id": "z17tzauAAhsO"
   },
   "source": [
    "Let's also have a look at the exact shape of the image:"
   ]
  },
  {
   "cell_type": "code",
   "execution_count": null,
   "metadata": {
    "id": "DQ4cvULFAhsO"
   },
   "outputs": [],
   "source": [
    "h, w, c = image.shape\n",
    "\n",
    "print(h)   # prints the image height\n",
    "print(w)   # prints the image width\n",
    "print(c)   # prints the number of image color channels = 3 for red, green, blue (rgb)"
   ]
  },
  {
   "cell_type": "markdown",
   "metadata": {
    "id": "uMjnBcUNAhsO"
   },
   "source": [
    "#### 6.2. Image Cropping"
   ]
  },
  {
   "cell_type": "markdown",
   "metadata": {
    "id": "ZhuWSecJAhsO"
   },
   "source": [
    "Use PIL to extract the upper pumpkin of the image:"
   ]
  },
  {
   "cell_type": "code",
   "execution_count": null,
   "metadata": {
    "id": "42gL3AE0AhsP"
   },
   "outputs": [],
   "source": [
    "upper_pumpkin = image[20:250, 20:300, :]\n",
    "plt.imshow(upper_pumpkin, vmin=0, vmax=255)"
   ]
  },
  {
   "cell_type": "code",
   "execution_count": null,
   "metadata": {
    "id": "Rdm-7LZKAhsP"
   },
   "outputs": [],
   "source": [
    "upper_pumpkin.shape"
   ]
  },
  {
   "cell_type": "markdown",
   "metadata": {
    "id": "Kcd1pj1xAhsP"
   },
   "source": [
    "#### 6.3. Image Channel Extraction"
   ]
  },
  {
   "cell_type": "markdown",
   "metadata": {
    "id": "jhVFu-8PAhsP"
   },
   "source": [
    "Let's extract the distinct (RGB) colour channels of the image:"
   ]
  },
  {
   "cell_type": "code",
   "execution_count": null,
   "metadata": {
    "id": "lml29ZPfAhsP"
   },
   "outputs": [],
   "source": [
    "# extraction of the red colour channel\n",
    "red_channel =  upper_pumpkin[:,:,0]\n",
    "\n",
    "plt.imshow(red_channel, cmap=plt.cm.gray)"
   ]
  },
  {
   "cell_type": "code",
   "execution_count": null,
   "metadata": {
    "id": "ysNFP2X9AhsP"
   },
   "outputs": [],
   "source": [
    "# extraction of the green colour channel\n",
    "green_channel =  upper_pumpkin[:,:,1]\n",
    "\n",
    "plt.imshow(green_channel, cmap=plt.cm.gray)"
   ]
  },
  {
   "cell_type": "code",
   "execution_count": null,
   "metadata": {
    "id": "8nz1hgxQAhsP"
   },
   "outputs": [],
   "source": [
    "# extraction of a blue colour channel\n",
    "blue_channel = upper_pumpkin[:,:,2]\n",
    "\n",
    "plt.imshow(blue_channel, cmap=plt.cm.gray)"
   ]
  },
  {
   "cell_type": "markdown",
   "metadata": {
    "id": "NklOFig1AhsP"
   },
   "source": [
    "#### 6.4. Image Manipulation"
   ]
  },
  {
   "cell_type": "markdown",
   "metadata": {
    "id": "1_gLclj3AhsP"
   },
   "source": [
    "We can derive the standard deviation of the pixel values across all bands: this will indicate in which image areas there are the most significant differences between the three bands (spoiler: they all have bright eyers, nose, and mouth and the background is dark in all of the channels):"
   ]
  },
  {
   "cell_type": "code",
   "execution_count": null,
   "metadata": {
    "id": "xJS4IJodAhsP"
   },
   "outputs": [],
   "source": [
    "gray = upper_pumpkin.std(axis=2)\n",
    "plot = plt.imshow(gray, cmap=plt.cm.gray, vmin=0, vmax=255)"
   ]
  },
  {
   "cell_type": "markdown",
   "metadata": {},
   "source": [
    "We can also subtract image channels from each other:"
   ]
  },
  {
   "cell_type": "code",
   "execution_count": null,
   "metadata": {},
   "outputs": [],
   "source": [
    "diff = upper_pumpkin[:,:,1]-upper_pumpkin[:,:,2]  # green - blue\n",
    "plot = plt.imshow(diff, cmap=plt.cm.gray, vmin=0, vmax=255)"
   ]
  },
  {
   "cell_type": "markdown",
   "metadata": {
    "id": "M02dFot5AhsP"
   },
   "source": [
    "To learn more about PIL and its capabilities visit: https://pillow.readthedocs.io."
   ]
  },
  {
   "cell_type": "code",
   "execution_count": null,
   "metadata": {},
   "outputs": [],
   "source": []
  }
 ],
 "metadata": {
  "kernelspec": {
   "display_name": "Python 3",
   "language": "python",
   "name": "python3"
  },
  "language_info": {
   "codemirror_mode": {
    "name": "ipython",
    "version": 3
   },
   "file_extension": ".py",
   "mimetype": "text/x-python",
   "name": "python",
   "nbconvert_exporter": "python",
   "pygments_lexer": "ipython3",
   "version": "3.8.3-final"
  }
 },
 "nbformat": 4,
 "nbformat_minor": 4
}