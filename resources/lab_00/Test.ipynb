{
 "cells": [
  {
   "cell_type": "markdown",
   "metadata": {},
   "source": [
    "# Coding für Führungskräfte - Test Notebook\n",
    "\n",
    "![Course Banner](https://raw.githubusercontent.com/HSG-AIML/LabAI-Coding/main/banner.png)"
   ]
  },
  {
   "cell_type": "markdown",
   "metadata": {},
   "source": [
    "Dieses Notebook dient nur als Test um zu überprüfen dass ihr die Notebooks richtig ausführen könnt. Klickt einfach auf die nächste Box (Code-Zelle) und drückt auf eurer Tastatur die Kombination **Shift** und **Enter**."
   ]
  },
  {
   "cell_type": "code",
   "execution_count": null,
   "metadata": {},
   "outputs": [],
   "source": [
    "import numpy as np\n",
    "\n",
    "print('Ja, alles funktioniert!')"
   ]
  },
  {
   "cell_type": "markdown",
   "metadata": {},
   "source": [
    "Falls als Ausgabe `Ja, alles funktioniert!` erscheint, funktioniert alles einwandfrei! Danke für den Test!\n",
    "\n",
    "Euer Coding-Für-Führungskräfte Team\n"
   ]
  }
 ],
 "metadata": {
  "kernelspec": {
   "display_name": "Python 3",
   "language": "python",
   "name": "python3"
  },
  "language_info": {
   "codemirror_mode": {
    "name": "ipython",
    "version": 3
   },
   "file_extension": ".py",
   "mimetype": "text/x-python",
   "name": "python",
   "nbconvert_exporter": "python",
   "pygments_lexer": "ipython3",
   "version": "3.8.3"
  }
 },
 "nbformat": 4,
 "nbformat_minor": 4
}
